{
 "cells": [
  {
   "cell_type": "code",
   "execution_count": 3,
   "metadata": {},
   "outputs": [],
   "source": [
    "\n",
    "game_dictionary = {'home': {'team_name': 'Brooklyn Nets',\n",
    "                            'colors': ['Black', 'White'],\n",
    "                            'players': {'Alan Anderson': {\n",
    "                                            'number': 0,\n",
    "                                            'shoe': 16,\n",
    "                                            'points': 22,\n",
    "                                            'rebounds': 12,\n",
    "                                            'assists': 12,\n",
    "                                            'steals': 3,\n",
    "                                            'blocks': 1,\n",
    "                                            'slam_dunks': 1\n",
    "                                        },\n",
    "                                        'Reggie Evans': {\n",
    "                                            'number': 30,\n",
    "                                            'shoe': 14,\n",
    "                                            'points': 12,\n",
    "                                            'rebounds': 12,\n",
    "                                            'assists': 12,\n",
    "                                            'steals': 12,\n",
    "                                            'blocks': 12,\n",
    "                                            'slam_dunks': 7\n",
    "                                        },\n",
    "                                        'Brook Lopez': {\n",
    "                                            'number': 11,\n",
    "                                            'shoe': 17,\n",
    "                                            'points': 17,\n",
    "                                            'rebounds': 19,\n",
    "                                            'assists': 10,\n",
    "                                            'steals': 3,\n",
    "                                            'blocks': 1,\n",
    "                                            'slam_dunks': 15\n",
    "                                        },\n",
    "                                        'Mason Plumlee': {\n",
    "                                            'number': 1,\n",
    "                                            'shoe': 19,\n",
    "                                            'points': 26,\n",
    "                                            'rebounds': 12,\n",
    "                                            'assists': 6,\n",
    "                                            'steals': 3,\n",
    "                                            'blocks': 8,\n",
    "                                            'slam_dunks': 5\n",
    "                                        },\n",
    "                                        'Jason Terry': {\n",
    "                                            'number': 31,\n",
    "                                            'shoe': 15,\n",
    "                                            'points': 19,\n",
    "                                            'rebounds': 2,\n",
    "                                            'assists': 2,\n",
    "                                            'steals': 4,\n",
    "                                            'blocks': 11,\n",
    "                                            'slam_dunks': 1\n",
    "                                        }\n",
    "                                        }},\n",
    "                    'away': {'team_name': 'Charlotte Hornets',\n",
    "                            'colors': ['Turquoise', 'Purple'],\n",
    "                            'players': {'Jeff Adrien': {\n",
    "                                            'number': 4,\n",
    "                                            'shoe': 18,\n",
    "                                            'points': 10,\n",
    "                                            'rebounds': 1,\n",
    "                                            'assists': 1,\n",
    "                                            'steals': 2,\n",
    "                                            'blocks': 7,\n",
    "                                            'slam_dunks': 2\n",
    "                                        },\n",
    "                                        'Bismak Biyombo': {\n",
    "                                            'number': 0,\n",
    "                                            'shoe': 16,\n",
    "                                            'points': 12,\n",
    "                                            'rebounds': 4,\n",
    "                                            'assists': 7,\n",
    "                                            'steals': 7,\n",
    "                                            'blocks': 15,\n",
    "                                            'slam_dunks': 10\n",
    "                                        },\n",
    "                                        'DeSagna Diop': {\n",
    "                                            'number': 2,\n",
    "                                            'shoe': 14,\n",
    "                                            'points': 24,\n",
    "                                            'rebounds': 12,\n",
    "                                            'assists': 12,\n",
    "                                            'steals': 4,\n",
    "                                            'blocks': 5,\n",
    "                                            'slam_dunks': 5\n",
    "                                        },\n",
    "                                        'Ben Gordon': {\n",
    "                                            'number': 8,\n",
    "                                            'shoe': 15,\n",
    "                                            'points': 33,\n",
    "                                            'rebounds': 3,\n",
    "                                            'assists': 2,\n",
    "                                            'steals': 1,\n",
    "                                            'blocks': 1,\n",
    "                                            'slam_dunks': 0\n",
    "                                        },\n",
    "                                        'Brendan Haywood': {\n",
    "                                            'number': 33,\n",
    "                                            'shoe': 15,\n",
    "                                            'points': 6,\n",
    "                                            'rebounds': 12,\n",
    "                                            'assists': 12,\n",
    "                                            'steals': 22,\n",
    "                                            'blocks': 5,\n",
    "                                            'slam_dunks': 12\n",
    "                                        }}}}\n"
   ]
  },
  {
   "cell_type": "code",
   "execution_count": 7,
   "metadata": {},
   "outputs": [],
   "source": [
    "#Build a function, num_points_scored that takes in an argument of a player's name and returns the number of points scored for that player.\n",
    "\n",
    "def num_points_scored \n",
    "    "
   ]
  },
  {
   "cell_type": "code",
   "execution_count": 2,
   "metadata": {},
   "outputs": [],
   "source": [
    "def game_dict():\n",
    "    return game_dictionary\n"
   ]
  },
  {
   "cell_type": "code",
   "execution_count": 58,
   "metadata": {},
   "outputs": [],
   "source": [
    "def good_practices():\n",
    "    for location, team_stats in game_dict().items():\n",
    "    # are you ABSOLUTELY SURE what 'location' and 'team_stats' are? use pdb.set_trace() to find out!\n",
    "        import pdb; pdb.set_trace()\n",
    "        for stats, data in team_stats.items():\n",
    "        # are you ABSOLUTELY SURE what 'stats' and 'data' are? use pdb.set_trace() to find out!\n",
    "            import pdb; pdb.set_trace()\n",
    "        # what is 'data' at each level of the for loop block? when will we be able to iterate through a list? \n",
    "        # When would the following line of code break?\n",
    "            for item in data:\n",
    "                    print(item)\n",
    "                    "
   ]
  },
  {
   "cell_type": "code",
   "execution_count": 59,
   "metadata": {},
   "outputs": [
    {
     "name": "stdout",
     "output_type": "stream",
     "text": [
      "> <ipython-input-58-7638cdd31def>(5)good_practices()\n",
      "-> for stats, data in team_stats.items():\n",
      "(Pdb) c\n",
      "> <ipython-input-58-7638cdd31def>(10)good_practices()\n",
      "-> for item in data:\n",
      "(Pdb) c\n",
      "B\n",
      "r\n",
      "o\n",
      "o\n",
      "k\n",
      "l\n",
      "y\n",
      "n\n",
      " \n",
      "N\n",
      "e\n",
      "t\n",
      "s\n",
      "> <ipython-input-58-7638cdd31def>(7)good_practices()\n",
      "-> import pdb; pdb.set_trace()\n",
      "(Pdb) c\n",
      "Black\n",
      "White\n",
      "> <ipython-input-58-7638cdd31def>(10)good_practices()\n",
      "-> for item in data:\n",
      "(Pdb) c\n",
      "Alan Anderson\n",
      "Reggie Evans\n",
      "Brook Lopez\n",
      "Mason Plumlee\n",
      "Jason Terry\n",
      "> <ipython-input-58-7638cdd31def>(4)good_practices()\n",
      "-> import pdb; pdb.set_trace()\n",
      "(Pdb) c\n",
      "> <ipython-input-58-7638cdd31def>(10)good_practices()\n",
      "-> for item in data:\n",
      "(Pdb) c\n",
      "C\n",
      "h\n",
      "a\n",
      "r\n",
      "l\n",
      "o\n",
      "t\n",
      "t\n",
      "e\n",
      " \n",
      "H\n",
      "o\n",
      "r\n",
      "n\n",
      "e\n",
      "t\n",
      "s\n",
      "> <ipython-input-58-7638cdd31def>(7)good_practices()\n",
      "-> import pdb; pdb.set_trace()\n",
      "(Pdb) c\n",
      "Turquoise\n",
      "Purple\n",
      "> <ipython-input-58-7638cdd31def>(10)good_practices()\n",
      "-> for item in data:\n",
      "(Pdb) c\n",
      "Jeff Adrien\n",
      "Bismak Biyombo\n",
      "DeSagna Diop\n",
      "Ben Gordon\n",
      "Brendan Haywood\n"
     ]
    }
   ],
   "source": [
    "good_practices()"
   ]
  },
  {
   "cell_type": "code",
   "execution_count": 14,
   "metadata": {},
   "outputs": [],
   "source": [
    "home = game_dict()['home']\n",
    "away = game_dict()['away']"
   ]
  },
  {
   "cell_type": "code",
   "execution_count": null,
   "metadata": {},
   "outputs": [],
   "source": []
  },
  {
   "cell_type": "code",
   "execution_count": 134,
   "metadata": {},
   "outputs": [
    {
     "data": {
      "text/plain": [
       "dict_keys(['team_name', 'colors', 'players'])"
      ]
     },
     "execution_count": 134,
     "metadata": {},
     "output_type": "execute_result"
    }
   ],
   "source": [
    "home.keys()\n",
    "    \n"
   ]
  },
  {
   "cell_type": "code",
   "execution_count": 148,
   "metadata": {},
   "outputs": [],
   "source": [
    "homeplayer = game_dict()['home']['players'] #dictionary of just home team players\n",
    "awayplayer = game_dict()['away']['players'] #dictionary of just away team players\n",
    "all_players = {**homeplayer,**awayplayer} #merged dictionaries to be able to iterate as one\n",
    "homename = game_dict()['home']['team_name'] #dictionary of team colors home\n",
    "awayname = game_dict()['away']['team_name'] #away colors\n"
   ]
  },
  {
   "cell_type": "code",
   "execution_count": 117,
   "metadata": {},
   "outputs": [],
   "source": [
    "#all_players = homeplayer.update(awayplayer)"
   ]
  },
  {
   "cell_type": "code",
   "execution_count": 150,
   "metadata": {},
   "outputs": [
    {
     "data": {
      "text/plain": [
       "'Brooklyn Nets'"
      ]
     },
     "execution_count": 150,
     "metadata": {},
     "output_type": "execute_result"
    }
   ],
   "source": [
    "homename"
   ]
  },
  {
   "cell_type": "code",
   "execution_count": 127,
   "metadata": {},
   "outputs": [
    {
     "data": {
      "text/plain": [
       "dict"
      ]
     },
     "execution_count": 127,
     "metadata": {},
     "output_type": "execute_result"
    }
   ],
   "source": [
    "type(all_players)"
   ]
  },
  {
   "cell_type": "code",
   "execution_count": 149,
   "metadata": {},
   "outputs": [
    {
     "name": "stdout",
     "output_type": "stream",
     "text": [
      "Brooklyn Nets\n"
     ]
    }
   ],
   "source": [
    "print(game_dict()['home']['team_name'])"
   ]
  },
  {
   "cell_type": "code",
   "execution_count": 128,
   "metadata": {},
   "outputs": [
    {
     "data": {
      "text/plain": [
       "dict_keys(['Alan Anderson', 'Reggie Evans', 'Brook Lopez', 'Mason Plumlee', 'Jason Terry', 'Jeff Adrien', 'Bismak Biyombo', 'DeSagna Diop', 'Ben Gordon', 'Brendan Haywood'])"
      ]
     },
     "execution_count": 128,
     "metadata": {},
     "output_type": "execute_result"
    }
   ],
   "source": [
    "all_players.keys() #merged dictionaries"
   ]
  },
  {
   "cell_type": "code",
   "execution_count": 121,
   "metadata": {},
   "outputs": [
    {
     "name": "stdout",
     "output_type": "stream",
     "text": [
      "None\n",
      "{'a': 1, 'b': 2, 'c': 2, 'd': 5}\n"
     ]
    }
   ],
   "source": [
    "a = {\"a\":1,\"b\":2}\n",
    "b = {\"c\":2, 'd':5}\n",
    "c = a.update(b)\n",
    "print(c)\n",
    "print(a)\n",
    "#why does it not set to my variable?\n",
    "#https://stackoverflow.com/questions/38987/how-to-merge-two-dictionaries-in-a-single-expression"
   ]
  },
  {
   "cell_type": "code",
   "execution_count": 136,
   "metadata": {},
   "outputs": [],
   "source": [
    "def num_points_scored (player):\n",
    "    return all_players[player]['points']"
   ]
  },
  {
   "cell_type": "code",
   "execution_count": 137,
   "metadata": {},
   "outputs": [
    {
     "data": {
      "text/plain": [
       "22"
      ]
     },
     "execution_count": 137,
     "metadata": {},
     "output_type": "execute_result"
    }
   ],
   "source": [
    "num_points_scored (\"Alan Anderson\")"
   ]
  },
  {
   "cell_type": "code",
   "execution_count": 138,
   "metadata": {},
   "outputs": [],
   "source": [
    "def shoe_size (player):\n",
    "    return all_players[player]['shoe']"
   ]
  },
  {
   "cell_type": "code",
   "execution_count": 139,
   "metadata": {},
   "outputs": [
    {
     "data": {
      "text/plain": [
       "16"
      ]
     },
     "execution_count": 139,
     "metadata": {},
     "output_type": "execute_result"
    }
   ],
   "source": [
    "shoe_size (\"Alan Anderson\")"
   ]
  },
  {
   "cell_type": "code",
   "execution_count": 152,
   "metadata": {},
   "outputs": [],
   "source": [
    "def team_colors (team_name):\n",
    "    if team_name == homename:\n",
    "        return game_dict()['home']['colors']\n",
    "    return game_dict()['away']['colors']"
   ]
  },
  {
   "cell_type": "code",
   "execution_count": 154,
   "metadata": {},
   "outputs": [
    {
     "data": {
      "text/plain": [
       "['Turquoise', 'Purple']"
      ]
     },
     "execution_count": 154,
     "metadata": {},
     "output_type": "execute_result"
    }
   ],
   "source": [
    "team_colors ('Charlotte Hornets')"
   ]
  },
  {
   "cell_type": "code",
   "execution_count": 158,
   "metadata": {},
   "outputs": [],
   "source": [
    "#team names\n",
    "def whos_playing ():\n",
    "    return homename +' ' + 'vs'+' ' + awayname"
   ]
  },
  {
   "cell_type": "code",
   "execution_count": 159,
   "metadata": {},
   "outputs": [
    {
     "data": {
      "text/plain": [
       "'Brooklyn Nets vs Charlotte Hornets'"
      ]
     },
     "execution_count": 159,
     "metadata": {},
     "output_type": "execute_result"
    }
   ],
   "source": [
    "whos_playing()"
   ]
  },
  {
   "cell_type": "code",
   "execution_count": null,
   "metadata": {},
   "outputs": [],
   "source": []
  }
 ],
 "metadata": {
  "kernelspec": {
   "display_name": "Python 3",
   "language": "python",
   "name": "python3"
  },
  "language_info": {
   "codemirror_mode": {
    "name": "ipython",
    "version": 3
   },
   "file_extension": ".py",
   "mimetype": "text/x-python",
   "name": "python",
   "nbconvert_exporter": "python",
   "pygments_lexer": "ipython3",
   "version": "3.7.3"
  }
 },
 "nbformat": 4,
 "nbformat_minor": 2
}
