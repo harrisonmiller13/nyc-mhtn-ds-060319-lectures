{
 "cells": [
  {
   "cell_type": "code",
   "execution_count": 1,
   "metadata": {},
   "outputs": [],
   "source": [
    "\n",
    "game_dictionary = {'home': {'team_name': 'Brooklyn Nets',\n",
    "                            'colors': ['Black', 'White'],\n",
    "                            'players': {'Alan Anderson': {\n",
    "                                            'number': 0,\n",
    "                                            'shoe': 16,\n",
    "                                            'points': 22,\n",
    "                                            'rebounds': 12,\n",
    "                                            'assists': 12,\n",
    "                                            'steals': 3,\n",
    "                                            'blocks': 1,\n",
    "                                            'slam_dunks': 1\n",
    "                                        },\n",
    "                                        'Reggie Evans': {\n",
    "                                            'number': 30,\n",
    "                                            'shoe': 14,\n",
    "                                            'points': 12,\n",
    "                                            'rebounds': 12,\n",
    "                                            'assists': 12,\n",
    "                                            'steals': 12,\n",
    "                                            'blocks': 12,\n",
    "                                            'slam_dunks': 7\n",
    "                                        },\n",
    "                                        'Brook Lopez': {\n",
    "                                            'number': 11,\n",
    "                                            'shoe': 17,\n",
    "                                            'points': 17,\n",
    "                                            'rebounds': 19,\n",
    "                                            'assists': 10,\n",
    "                                            'steals': 3,\n",
    "                                            'blocks': 1,\n",
    "                                            'slam_dunks': 15\n",
    "                                        },\n",
    "                                        'Mason Plumlee': {\n",
    "                                            'number': 1,\n",
    "                                            'shoe': 19,\n",
    "                                            'points': 26,\n",
    "                                            'rebounds': 12,\n",
    "                                            'assists': 6,\n",
    "                                            'steals': 3,\n",
    "                                            'blocks': 8,\n",
    "                                            'slam_dunks': 5\n",
    "                                        },\n",
    "                                        'Jason Terry': {\n",
    "                                            'number': 31,\n",
    "                                            'shoe': 15,\n",
    "                                            'points': 19,\n",
    "                                            'rebounds': 2,\n",
    "                                            'assists': 2,\n",
    "                                            'steals': 4,\n",
    "                                            'blocks': 11,\n",
    "                                            'slam_dunks': 1\n",
    "                                        }\n",
    "                                        }},\n",
    "                    'away': {'team_name': 'Charlotte Hornets',\n",
    "                            'colors': ['Turquoise', 'Purple'],\n",
    "                            'players': {'Jeff Adrien': {\n",
    "                                            'number': 4,\n",
    "                                            'shoe': 18,\n",
    "                                            'points': 10,\n",
    "                                            'rebounds': 1,\n",
    "                                            'assists': 1,\n",
    "                                            'steals': 2,\n",
    "                                            'blocks': 7,\n",
    "                                            'slam_dunks': 2\n",
    "                                        },\n",
    "                                        'Bismak Biyombo': {\n",
    "                                            'number': 0,\n",
    "                                            'shoe': 16,\n",
    "                                            'points': 12,\n",
    "                                            'rebounds': 4,\n",
    "                                            'assists': 7,\n",
    "                                            'steals': 7,\n",
    "                                            'blocks': 15,\n",
    "                                            'slam_dunks': 10\n",
    "                                        },\n",
    "                                        'DeSagna Diop': {\n",
    "                                            'number': 2,\n",
    "                                            'shoe': 14,\n",
    "                                            'points': 24,\n",
    "                                            'rebounds': 12,\n",
    "                                            'assists': 12,\n",
    "                                            'steals': 4,\n",
    "                                            'blocks': 5,\n",
    "                                            'slam_dunks': 5\n",
    "                                        },\n",
    "                                        'Ben Gordon': {\n",
    "                                            'number': 8,\n",
    "                                            'shoe': 15,\n",
    "                                            'points': 33,\n",
    "                                            'rebounds': 3,\n",
    "                                            'assists': 2,\n",
    "                                            'steals': 1,\n",
    "                                            'blocks': 1,\n",
    "                                            'slam_dunks': 0\n",
    "                                        },\n",
    "                                        'Brendan Haywood': {\n",
    "                                            'number': 33,\n",
    "                                            'shoe': 15,\n",
    "                                            'points': 6,\n",
    "                                            'rebounds': 12,\n",
    "                                            'assists': 12,\n",
    "                                            'steals': 22,\n",
    "                                            'blocks': 5,\n",
    "                                            'slam_dunks': 12\n",
    "                                        }}}}\n"
   ]
  },
  {
   "cell_type": "code",
   "execution_count": 7,
   "metadata": {},
   "outputs": [],
   "source": [
    "#Build a function, num_points_scored that takes in an argument of a player's name and returns the number of points scored for that player.\n",
    "\n",
    "def num_points_scored \n",
    "    "
   ]
  },
  {
   "cell_type": "code",
   "execution_count": 2,
   "metadata": {},
   "outputs": [],
   "source": [
    "def game_dict():\n",
    "    return game_dictionary\n"
   ]
  },
  {
   "cell_type": "code",
   "execution_count": 58,
   "metadata": {},
   "outputs": [],
   "source": [
    "def good_practices():\n",
    "    for location, team_stats in game_dict().items():\n",
    "    # are you ABSOLUTELY SURE what 'location' and 'team_stats' are? use pdb.set_trace() to find out!\n",
    "        import pdb; pdb.set_trace()\n",
    "        for stats, data in team_stats.items():\n",
    "        # are you ABSOLUTELY SURE what 'stats' and 'data' are? use pdb.set_trace() to find out!\n",
    "            import pdb; pdb.set_trace()\n",
    "        # what is 'data' at each level of the for loop block? when will we be able to iterate through a list? \n",
    "        # When would the following line of code break?\n",
    "            for item in data:\n",
    "                    print(item)\n",
    "                    "
   ]
  },
  {
   "cell_type": "code",
   "execution_count": 59,
   "metadata": {},
   "outputs": [
    {
     "name": "stdout",
     "output_type": "stream",
     "text": [
      "> <ipython-input-58-7638cdd31def>(5)good_practices()\n",
      "-> for stats, data in team_stats.items():\n",
      "(Pdb) c\n",
      "> <ipython-input-58-7638cdd31def>(10)good_practices()\n",
      "-> for item in data:\n",
      "(Pdb) c\n",
      "B\n",
      "r\n",
      "o\n",
      "o\n",
      "k\n",
      "l\n",
      "y\n",
      "n\n",
      " \n",
      "N\n",
      "e\n",
      "t\n",
      "s\n",
      "> <ipython-input-58-7638cdd31def>(7)good_practices()\n",
      "-> import pdb; pdb.set_trace()\n",
      "(Pdb) c\n",
      "Black\n",
      "White\n",
      "> <ipython-input-58-7638cdd31def>(10)good_practices()\n",
      "-> for item in data:\n",
      "(Pdb) c\n",
      "Alan Anderson\n",
      "Reggie Evans\n",
      "Brook Lopez\n",
      "Mason Plumlee\n",
      "Jason Terry\n",
      "> <ipython-input-58-7638cdd31def>(4)good_practices()\n",
      "-> import pdb; pdb.set_trace()\n",
      "(Pdb) c\n",
      "> <ipython-input-58-7638cdd31def>(10)good_practices()\n",
      "-> for item in data:\n",
      "(Pdb) c\n",
      "C\n",
      "h\n",
      "a\n",
      "r\n",
      "l\n",
      "o\n",
      "t\n",
      "t\n",
      "e\n",
      " \n",
      "H\n",
      "o\n",
      "r\n",
      "n\n",
      "e\n",
      "t\n",
      "s\n",
      "> <ipython-input-58-7638cdd31def>(7)good_practices()\n",
      "-> import pdb; pdb.set_trace()\n",
      "(Pdb) c\n",
      "Turquoise\n",
      "Purple\n",
      "> <ipython-input-58-7638cdd31def>(10)good_practices()\n",
      "-> for item in data:\n",
      "(Pdb) c\n",
      "Jeff Adrien\n",
      "Bismak Biyombo\n",
      "DeSagna Diop\n",
      "Ben Gordon\n",
      "Brendan Haywood\n"
     ]
    }
   ],
   "source": [
    "good_practices()"
   ]
  },
  {
   "cell_type": "code",
   "execution_count": 3,
   "metadata": {},
   "outputs": [],
   "source": [
    "home = game_dict()['home']\n",
    "away = game_dict()['away']"
   ]
  },
  {
   "cell_type": "code",
   "execution_count": null,
   "metadata": {},
   "outputs": [],
   "source": []
  },
  {
   "cell_type": "code",
   "execution_count": 134,
   "metadata": {},
   "outputs": [
    {
     "data": {
      "text/plain": [
       "dict_keys(['team_name', 'colors', 'players'])"
      ]
     },
     "execution_count": 134,
     "metadata": {},
     "output_type": "execute_result"
    }
   ],
   "source": [
    "home.keys()\n",
    "    \n"
   ]
  },
  {
   "cell_type": "code",
   "execution_count": 4,
   "metadata": {},
   "outputs": [],
   "source": [
    "homeplayer = game_dict()['home']['players'] #dictionary of just home team players\n",
    "awayplayer = game_dict()['away']['players'] #dictionary of just away team players\n",
    "all_players = {**homeplayer,**awayplayer} #merged dictionaries to be able to iterate as one\n",
    "homename = game_dict()['home']['team_name'] #dictionary of team colors home\n",
    "awayname = game_dict()['away']['team_name'] #away colors\n"
   ]
  },
  {
   "cell_type": "code",
   "execution_count": 117,
   "metadata": {},
   "outputs": [],
   "source": [
    "#all_players = homeplayer.update(awayplayer)"
   ]
  },
  {
   "cell_type": "code",
   "execution_count": 16,
   "metadata": {},
   "outputs": [
    {
     "data": {
      "text/plain": [
       "dict_keys(['Alan Anderson', 'Reggie Evans', 'Brook Lopez', 'Mason Plumlee', 'Jason Terry'])"
      ]
     },
     "execution_count": 16,
     "metadata": {},
     "output_type": "execute_result"
    }
   ],
   "source": [
    "homeplayer"
   ]
  },
  {
   "cell_type": "code",
   "execution_count": 127,
   "metadata": {},
   "outputs": [
    {
     "data": {
      "text/plain": [
       "dict"
      ]
     },
     "execution_count": 127,
     "metadata": {},
     "output_type": "execute_result"
    }
   ],
   "source": [
    "type(all_players)"
   ]
  },
  {
   "cell_type": "code",
   "execution_count": 149,
   "metadata": {},
   "outputs": [
    {
     "name": "stdout",
     "output_type": "stream",
     "text": [
      "Brooklyn Nets\n"
     ]
    }
   ],
   "source": [
    "print(game_dict()['home']['team_name'])"
   ]
  },
  {
   "cell_type": "code",
   "execution_count": 128,
   "metadata": {},
   "outputs": [
    {
     "data": {
      "text/plain": [
       "dict_keys(['Alan Anderson', 'Reggie Evans', 'Brook Lopez', 'Mason Plumlee', 'Jason Terry', 'Jeff Adrien', 'Bismak Biyombo', 'DeSagna Diop', 'Ben Gordon', 'Brendan Haywood'])"
      ]
     },
     "execution_count": 128,
     "metadata": {},
     "output_type": "execute_result"
    }
   ],
   "source": [
    "all_players.keys() #merged dictionaries"
   ]
  },
  {
   "cell_type": "code",
   "execution_count": 121,
   "metadata": {},
   "outputs": [
    {
     "name": "stdout",
     "output_type": "stream",
     "text": [
      "None\n",
      "{'a': 1, 'b': 2, 'c': 2, 'd': 5}\n"
     ]
    }
   ],
   "source": [
    "a = {\"a\":1,\"b\":2}\n",
    "b = {\"c\":2, 'd':5}\n",
    "c = a.update(b)\n",
    "print(c)\n",
    "print(a)\n",
    "#why does it not set to my variable?\n",
    "#https://stackoverflow.com/questions/38987/how-to-merge-two-dictionaries-in-a-single-expression"
   ]
  },
  {
   "cell_type": "code",
   "execution_count": 5,
   "metadata": {},
   "outputs": [],
   "source": [
    "def num_points_scored (player):\n",
    "    return all_players[player]['points']"
   ]
  },
  {
   "cell_type": "code",
   "execution_count": 137,
   "metadata": {},
   "outputs": [
    {
     "data": {
      "text/plain": [
       "22"
      ]
     },
     "execution_count": 137,
     "metadata": {},
     "output_type": "execute_result"
    }
   ],
   "source": [
    "num_points_scored (\"Alan Anderson\")"
   ]
  },
  {
   "cell_type": "code",
   "execution_count": 6,
   "metadata": {},
   "outputs": [],
   "source": [
    "def shoe_size (player):\n",
    "    return all_players[player]['shoe']"
   ]
  },
  {
   "cell_type": "code",
   "execution_count": 139,
   "metadata": {},
   "outputs": [
    {
     "data": {
      "text/plain": [
       "16"
      ]
     },
     "execution_count": 139,
     "metadata": {},
     "output_type": "execute_result"
    }
   ],
   "source": [
    "shoe_size (\"Alan Anderson\")"
   ]
  },
  {
   "cell_type": "code",
   "execution_count": 7,
   "metadata": {},
   "outputs": [],
   "source": [
    "def team_colors (team_name):\n",
    "    if team_name == homename:\n",
    "        return game_dict()['home']['colors']\n",
    "    return game_dict()['away']['colors']"
   ]
  },
  {
   "cell_type": "code",
   "execution_count": 154,
   "metadata": {},
   "outputs": [
    {
     "data": {
      "text/plain": [
       "['Turquoise', 'Purple']"
      ]
     },
     "execution_count": 154,
     "metadata": {},
     "output_type": "execute_result"
    }
   ],
   "source": [
    "team_colors ('Charlotte Hornets')"
   ]
  },
  {
   "cell_type": "code",
   "execution_count": 8,
   "metadata": {},
   "outputs": [],
   "source": [
    "#team names\n",
    "def team_names ():\n",
    "    return [homename,awayname]"
   ]
  },
  {
   "cell_type": "code",
   "execution_count": 52,
   "metadata": {},
   "outputs": [
    {
     "data": {
      "text/plain": [
       "dict_keys(['Alan Anderson', 'Reggie Evans', 'Brook Lopez', 'Mason Plumlee', 'Jason Terry'])"
      ]
     },
     "execution_count": 52,
     "metadata": {},
     "output_type": "execute_result"
    }
   ],
   "source": [
    "homeplayer.keys()"
   ]
  },
  {
   "cell_type": "code",
   "execution_count": 37,
   "metadata": {},
   "outputs": [],
   "source": [
    "#Build a function, player_numbers, that takes in an argument of a team name and returns a list of the jersey number's for that team.\n",
    "\n",
    "#home or away\n",
    "#player\n",
    "#stats -> jersey number\n",
    "#append to list of jersey numbers for team\n",
    "\n",
    "\n",
    "\n",
    "\n",
    "def player_numbers (team):\n",
    "    jersey_numbers = []\n",
    "    if team == home['team_name']:\n",
    "        for player, stats in homeplayer.items():\n",
    "            jersey_numbers.append (stats ['number'])\n",
    "    else:\n",
    "        for player, stats in awayplayer.items():\n",
    "            jersey_numbers.append (stats['number'])\n",
    "    return jersey_numbers\n",
    "            \n",
    "            \n",
    "            \n",
    "     \n"
   ]
  },
  {
   "cell_type": "code",
   "execution_count": 38,
   "metadata": {},
   "outputs": [
    {
     "data": {
      "text/plain": [
       "[4, 0, 2, 8, 33]"
      ]
     },
     "execution_count": 38,
     "metadata": {},
     "output_type": "execute_result"
    }
   ],
   "source": [
    "player_numbers ('Charlotte Hornets')"
   ]
  },
  {
   "cell_type": "code",
   "execution_count": 9,
   "metadata": {},
   "outputs": [],
   "source": [
    "#Build a function, player_stats, that takes in an argument of a player's name and returns a dictionary of that player's stats.\n",
    "def player_stats (player):\n",
    "    return all_players[player]\n"
   ]
  },
  {
   "cell_type": "code",
   "execution_count": 50,
   "metadata": {},
   "outputs": [],
   "source": []
  },
  {
   "cell_type": "markdown",
   "metadata": {},
   "source": [
    "Build a function, big_shoe_rebounds, that will return the number of rebounds associated with the player that has the largest shoe size. Break this one down into steps:\n",
    "First, find the player with the largest shoe size\n",
    "Then, return that player's number of rebounds\n",
    "        "
   ]
  },
  {
   "cell_type": "code",
   "execution_count": 29,
   "metadata": {},
   "outputs": [
    {
     "data": {
      "text/plain": [
       "dict_keys(['Jeff Adrien', 'Bismak Biyombo', 'DeSagna Diop', 'Ben Gordon', 'Brendan Haywood'])"
      ]
     },
     "execution_count": 29,
     "metadata": {},
     "output_type": "execute_result"
    }
   ],
   "source": [
    "#allplayer\n",
    "#player\n",
    "#sort by shoe size max\n",
    "#rebounds of max\n",
    "#sorted(A, key=A.get)\n",
    "def big_shoe_rebounds():\n",
    "    largest_shoesize = {}\n",
    "    for player, stats in all_players.items():\n",
    "        largest_shoesize. append stats['shoe'] \n",
    "        largest_shoeszie.append (stats ['shoe'])\n",
    "    \n",
    "    "
   ]
  },
  {
   "cell_type": "code",
   "execution_count": 53,
   "metadata": {},
   "outputs": [
    {
     "data": {
      "text/plain": [
       "dict_keys(['Alan Anderson', 'Reggie Evans', 'Brook Lopez', 'Mason Plumlee', 'Jason Terry', 'Jeff Adrien', 'Bismak Biyombo', 'DeSagna Diop', 'Ben Gordon', 'Brendan Haywood'])"
      ]
     },
     "execution_count": 53,
     "metadata": {},
     "output_type": "execute_result"
    }
   ],
   "source": [
    "all_players.keys()"
   ]
  },
  {
   "cell_type": "code",
   "execution_count": null,
   "metadata": {},
   "outputs": [],
   "source": [
    "\n",
    "    \n",
    "    "
   ]
  },
  {
   "cell_type": "code",
   "execution_count": 55,
   "metadata": {},
   "outputs": [
    {
     "data": {
      "text/plain": [
       "dict"
      ]
     },
     "execution_count": 55,
     "metadata": {},
     "output_type": "execute_result"
    }
   ],
   "source": [
    "type(homeplayer)"
   ]
  },
  {
   "cell_type": "code",
   "execution_count": 56,
   "metadata": {},
   "outputs": [
    {
     "data": {
      "text/plain": [
       "dict_keys(['Alan Anderson', 'Reggie Evans', 'Brook Lopez', 'Mason Plumlee', 'Jason Terry'])"
      ]
     },
     "execution_count": 56,
     "metadata": {},
     "output_type": "execute_result"
    }
   ],
   "source": [
    "homeplayer.keys()"
   ]
  },
  {
   "cell_type": "code",
   "execution_count": 57,
   "metadata": {},
   "outputs": [],
   "source": [
    "for player_name, "
   ]
  },
  {
   "cell_type": "code",
   "execution_count": 58,
   "metadata": {},
   "outputs": [
    {
     "data": {
      "text/plain": [
       "'yes'"
      ]
     },
     "execution_count": 58,
     "metadata": {},
     "output_type": "execute_result"
    }
   ],
   "source": [
    "test ('Brooklyn Nets')"
   ]
  },
  {
   "cell_type": "code",
   "execution_count": 59,
   "metadata": {},
   "outputs": [
    {
     "data": {
      "text/plain": [
       "dict_values([{'number': 0, 'shoe': 16, 'points': 22, 'rebounds': 12, 'assists': 12, 'steals': 3, 'blocks': 1, 'slam_dunks': 1}, {'number': 30, 'shoe': 14, 'points': 12, 'rebounds': 12, 'assists': 12, 'steals': 12, 'blocks': 12, 'slam_dunks': 7}, {'number': 11, 'shoe': 17, 'points': 17, 'rebounds': 19, 'assists': 10, 'steals': 3, 'blocks': 1, 'slam_dunks': 15}, {'number': 1, 'shoe': 19, 'points': 26, 'rebounds': 12, 'assists': 6, 'steals': 3, 'blocks': 8, 'slam_dunks': 5}, {'number': 31, 'shoe': 15, 'points': 19, 'rebounds': 2, 'assists': 2, 'steals': 4, 'blocks': 11, 'slam_dunks': 1}])"
      ]
     },
     "execution_count": 59,
     "metadata": {},
     "output_type": "execute_result"
    }
   ],
   "source": [
    "homeplayer.values()"
   ]
  },
  {
   "cell_type": "code",
   "execution_count": 13,
   "metadata": {},
   "outputs": [],
   "source": []
  },
  {
   "cell_type": "code",
   "execution_count": 35,
   "metadata": {},
   "outputs": [],
   "source": []
  },
  {
   "cell_type": "code",
   "execution_count": 36,
   "metadata": {},
   "outputs": [
    {
     "data": {
      "text/plain": [
       "[4, 0, 2, 8, 33]"
      ]
     },
     "execution_count": 36,
     "metadata": {},
     "output_type": "execute_result"
    }
   ],
   "source": [
    "player_numbers ('Charlotte Hornets')"
   ]
  },
  {
   "cell_type": "code",
   "execution_count": 15,
   "metadata": {},
   "outputs": [
    {
     "name": "stdout",
     "output_type": "stream",
     "text": [
      "Alan Anderson {'number': 0, 'shoe': 16, 'points': 22, 'rebounds': 12, 'assists': 12, 'steals': 3, 'blocks': 1, 'slam_dunks': 1}\n",
      "Reggie Evans {'number': 30, 'shoe': 14, 'points': 12, 'rebounds': 12, 'assists': 12, 'steals': 12, 'blocks': 12, 'slam_dunks': 7}\n",
      "Brook Lopez {'number': 11, 'shoe': 17, 'points': 17, 'rebounds': 19, 'assists': 10, 'steals': 3, 'blocks': 1, 'slam_dunks': 15}\n",
      "Mason Plumlee {'number': 1, 'shoe': 19, 'points': 26, 'rebounds': 12, 'assists': 6, 'steals': 3, 'blocks': 8, 'slam_dunks': 5}\n",
      "Jason Terry {'number': 31, 'shoe': 15, 'points': 19, 'rebounds': 2, 'assists': 2, 'steals': 4, 'blocks': 11, 'slam_dunks': 1}\n"
     ]
    }
   ],
   "source": [
    "for player, stats in homeplayer.items():\n",
    "\t    print(player,stats)"
   ]
  },
  {
   "cell_type": "code",
   "execution_count": 23,
   "metadata": {},
   "outputs": [
    {
     "name": "stdout",
     "output_type": "stream",
     "text": [
      "0\n",
      "30\n",
      "11\n",
      "1\n",
      "31\n"
     ]
    }
   ],
   "source": [
    "for player, stats in homeplayer.items():\n",
    "    print(stats ['number'])"
   ]
  },
  {
   "cell_type": "code",
   "execution_count": 45,
   "metadata": {},
   "outputs": [
    {
     "name": "stdout",
     "output_type": "stream",
     "text": [
      "16\n",
      "14\n",
      "17\n",
      "19\n",
      "15\n",
      "18\n",
      "16\n",
      "14\n",
      "15\n",
      "15\n"
     ]
    }
   ],
   "source": [
    "for player, stats in all_players.items():\n",
    "    print(stats ['shoe'])"
   ]
  },
  {
   "cell_type": "code",
   "execution_count": null,
   "metadata": {},
   "outputs": [],
   "source": []
  }
 ],
 "metadata": {
  "kernelspec": {
   "display_name": "Python 3",
   "language": "python",
   "name": "python3"
  },
  "language_info": {
   "codemirror_mode": {
    "name": "ipython",
    "version": 3
   },
   "file_extension": ".py",
   "mimetype": "text/x-python",
   "name": "python",
   "nbconvert_exporter": "python",
   "pygments_lexer": "ipython3",
   "version": "3.7.3"
  }
 },
 "nbformat": 4,
 "nbformat_minor": 2
}
