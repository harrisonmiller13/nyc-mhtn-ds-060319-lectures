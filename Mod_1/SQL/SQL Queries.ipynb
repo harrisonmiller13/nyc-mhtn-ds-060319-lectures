{
 "cells": [
  {
   "cell_type": "markdown",
   "metadata": {},
   "source": [
    "<h1 style='text-align: center'>SQL Queries</h1>"
   ]
  },
  {
   "cell_type": "markdown",
   "metadata": {},
   "source": [
    "## Getting Data From A SQL Database"
   ]
  },
  {
   "cell_type": "markdown",
   "metadata": {},
   "source": [
    "### The Structure of a SQL Query"
   ]
  },
  {
   "cell_type": "markdown",
   "metadata": {},
   "source": [
    "<img src='images/sql_statement.jpg'/>"
   ]
  },
  {
   "cell_type": "markdown",
   "metadata": {},
   "source": [
    "#### SELECT"
   ]
  },
  {
   "cell_type": "markdown",
   "metadata": {},
   "source": [
    "- What columns of data do we want? \n",
    "- Specify by column names or * (All) "
   ]
  },
  {
   "cell_type": "markdown",
   "metadata": {},
   "source": [
    "FROM\n",
    "\n",
    "- Where are we getting our data from? \n",
    "- Specify by table name or use join statement to join multiple tables"
   ]
  },
  {
   "cell_type": "markdown",
   "metadata": {},
   "source": [
    "##### JOIN "
   ]
  },
  {
   "cell_type": "markdown",
   "metadata": {},
   "source": [
    "- Use to join multiple tables \n",
    "- SELECT * FROM students join favorite_foods on students.id = favorite_foods.student_id\n",
    "- SELECT * FROM students as s join favorite_foods as f on s.id = f.student_id"
   ]
  },
  {
   "cell_type": "markdown",
   "metadata": {},
   "source": [
    "#### WHERE"
   ]
  },
  {
   "cell_type": "markdown",
   "metadata": {},
   "source": [
    "- apply some filter to the data you are querying \n",
    "- define criteria for data that should selected from the database \n",
    "- SELECT * from students WHERE age > 10 "
   ]
  },
  {
   "cell_type": "markdown",
   "metadata": {},
   "source": [
    "#### GROUP BY"
   ]
  },
  {
   "cell_type": "markdown",
   "metadata": {},
   "source": [
    "- Group columns by similar values\n",
    "- SELECT COUNT(id), city from students GROUP BY city"
   ]
  },
  {
   "cell_type": "markdown",
   "metadata": {},
   "source": [
    "#### HAVING"
   ]
  },
  {
   "cell_type": "markdown",
   "metadata": {},
   "source": [
    "- Use to apply filter AFTER you have made your initial query \n",
    "- When should we use HAVING instead of WHERE"
   ]
  },
  {
   "cell_type": "code",
   "execution_count": 53,
   "metadata": {},
   "outputs": [],
   "source": [
    "import sqlite3\n",
    "import pandas as pd\n",
    "conn = sqlite3.connect('tutorial.db')\n",
    "c = conn.cursor()"
   ]
  },
  {
   "cell_type": "code",
   "execution_count": 5,
   "metadata": {},
   "outputs": [],
   "source": [
    "# Load students.json file\n",
    "\n",
    "#your code here\n",
    "import json\n",
    "f=open('students.json','r')\n",
    "data=json.load(f)"
   ]
  },
  {
   "cell_type": "code",
   "execution_count": 7,
   "metadata": {},
   "outputs": [
    {
     "data": {
      "text/plain": [
       "[{'name': 'Sean Abu Wilson',\n",
       "  'birthdate': '02/06',\n",
       "  'siblings': 2,\n",
       "  'Birthplace': 'Birmingham, AL',\n",
       "  'yearsinnyc': 7.8,\n",
       "  'favoritefood': 'guacamole'},\n",
       " {'name': 'Tawab',\n",
       "  'birthdate': '04/08/1998',\n",
       "  'siblings': 4,\n",
       "  'Birthplace': 'Afghanistan',\n",
       "  'yearsinnyc': 0.5,\n",
       "  'favoritefood': 'pizza'},\n",
       " {'name': 'Bridget Boakye',\n",
       "  'birthdate': '1990-07-13',\n",
       "  'siblings': 3,\n",
       "  'Birthplace': 'Accra',\n",
       "  'yearsinnyc': 15,\n",
       "  'favoritefood': 'Indian'},\n",
       " {'name': 'Cristina',\n",
       "  'birthdate': '9/9/1990',\n",
       "  'siblings': 2,\n",
       "  'Birthplace': 'Spain',\n",
       "  'yearsinnyc': 6,\n",
       "  'favoritefood': 'Sushi'},\n",
       " {'name': 'Danny (Haoyang) Yu',\n",
       "  'birthdate': '1997-03-19',\n",
       "  'siblings': 2,\n",
       "  'Birthplace': '1997-03-19',\n",
       "  'yearsinnyc': 0,\n",
       "  'favoritefood': 'Galbi'},\n",
       " {'name': 'Dustin_Breitner',\n",
       "  'birthdate': '04/15/94',\n",
       "  'siblings': 2,\n",
       "  'Birthplace': 'New_York',\n",
       "  'yearsinnyc': 3,\n",
       "  'favoritefood': 'Pizza'},\n",
       " {'name': 'Gregory DeSantis',\n",
       "  'birthdate': '1987-11-23',\n",
       "  'siblings': 2,\n",
       "  'Birthplace': 'Highland Park, NJ',\n",
       "  'yearsinnyc': 13,\n",
       "  'favoritefood': 'Pizza'},\n",
       " {'name': 'Harrison Miller',\n",
       "  'birthdate': '10/2/85',\n",
       "  'siblings': 0,\n",
       "  'Birthplace': 'New Jersey',\n",
       "  'yearsinnyc': 0,\n",
       "  'favoritefood': 'Pizza'},\n",
       " {'name': 'Jeremy Owens',\n",
       "  'birthdate': '03/30/1990',\n",
       "  'siblings': 0,\n",
       "  'Birthplace': 'Virginia',\n",
       "  'yearsinnyc': 6,\n",
       "  'favoritefood': 'Avocado'},\n",
       " {'name': 'Jeremy Reikes',\n",
       "  'birthdate': '1-/12/1995',\n",
       "  'siblings': 1,\n",
       "  'Birthplace': 'New York City',\n",
       "  'yearsinnyc': 23,\n",
       "  'favoritefood': 'Pizza'},\n",
       " {'name': 'Johnathan Peck',\n",
       "  'birthdate': '02-19-1994',\n",
       "  'siblings': 2,\n",
       "  'Birthplace': 'New York',\n",
       "  'yearsinnyc': 25,\n",
       "  'favoritefood': 'Moms food'},\n",
       " {'name': 'Minna F',\n",
       "  'birthdate': '11-19-1996',\n",
       "  'siblings': 3,\n",
       "  'Birthplace': 'San Francisco',\n",
       "  'yearsinnyc': 1,\n",
       "  'favoritefood': 'sushi'},\n",
       " {'name': 'Nabil Abbas',\n",
       "  'birthdate': '12-07-1994',\n",
       "  'siblings': 2,\n",
       "  'Birthplace': 'Long Island',\n",
       "  'yearsinnyc': 6,\n",
       "  'favoritefood': 'Gyro'},\n",
       " {'name': 'Natalie Del Rossi',\n",
       "  'birthdate': '10-23-1994',\n",
       "  'siblings': 0,\n",
       "  'Birthplace': 'Brooklyn',\n",
       "  'yearsinnyc': 18,\n",
       "  'favoritefood': 'pizza'},\n",
       " {'name': 'Remy Canario',\n",
       "  'birthdate': '10-11-1988',\n",
       "  'siblings': 0,\n",
       "  'Birthplace': 'New York',\n",
       "  'yearsinnyc': 28,\n",
       "  'favoritefood': 'toast'},\n",
       " {'name': 'Xristos Katsaros',\n",
       "  'birthdate': '03-24-1986',\n",
       "  'siblings': 1,\n",
       "  'Birthplace': 'Chicago Heights, IL',\n",
       "  'yearsinnyc': 3,\n",
       "  'favoritefood': 'Pizza'}]"
      ]
     },
     "execution_count": 7,
     "metadata": {},
     "output_type": "execute_result"
    }
   ],
   "source": [
    "data"
   ]
  },
  {
   "cell_type": "code",
   "execution_count": 8,
   "metadata": {},
   "outputs": [
    {
     "data": {
      "text/plain": [
       "{'name': 'Sean Abu Wilson',\n",
       " 'birthdate': '02/06',\n",
       " 'siblings': 2,\n",
       " 'Birthplace': 'Birmingham, AL',\n",
       " 'yearsinnyc': 7.8,\n",
       " 'favoritefood': 'guacamole'}"
      ]
     },
     "execution_count": 8,
     "metadata": {},
     "output_type": "execute_result"
    }
   ],
   "source": [
    "data[0]"
   ]
  },
  {
   "cell_type": "code",
   "execution_count": 27,
   "metadata": {},
   "outputs": [],
   "source": [
    "c.execute('''\n",
    "CREATE TABLE IF NOT EXISTS students (name TEXT, birthdate TEXT, siblings INT, Birthplace TEXT, yearsinnyc INT, favoritefood TEXT);''')\n",
    "\n",
    "conn.commit()"
   ]
  },
  {
   "cell_type": "code",
   "execution_count": 30,
   "metadata": {},
   "outputs": [],
   "source": [
    "# dynamic data entry example\n",
    "def dynamic_data_entry(person):\n",
    "    \n",
    "    c.execute('''INSERT INTO students (name, birthdate, siblings, Birthplace, yearsinnyc, favoritefood) VALUES (?, ?, ?, ?, ?, ?)\n",
    "\n",
    "''',(person['name'],person ['birthdate'],person['siblings'],person['Birthplace'], person ['yearsinnyc'],person['favoritefood']))\n",
    "    \n",
    "    conn.commit()\n",
    "    "
   ]
  },
  {
   "cell_type": "code",
   "execution_count": 32,
   "metadata": {},
   "outputs": [],
   "source": [
    "for person in data:\n",
    "    dynamic_data_entry(person)"
   ]
  },
  {
   "cell_type": "markdown",
   "metadata": {},
   "source": [
    "### Questions\n",
    "1. What are the names of all of the students?\n",
    "2. Which student has the most siblings?\n",
    "3. How many students are only children?\n",
    "4. Which 3 students have lived in NYC the shortest amount of time?\n",
    "5. How many students are native New Yorkers?\n",
    "6. Do any two students have the same favorite food?\n",
    "7. Which student was born closest to the cohort's graduation date?"
   ]
  },
  {
   "cell_type": "code",
   "execution_count": 33,
   "metadata": {},
   "outputs": [
    {
     "data": {
      "text/plain": [
       "[('Sean Abu Wilson',),\n",
       " ('Sean Abu Wilson',),\n",
       " ('Tawab',),\n",
       " ('Bridget Boakye',),\n",
       " ('Cristina',),\n",
       " ('Danny (Haoyang) Yu',),\n",
       " ('Dustin_Breitner',),\n",
       " ('Gregory DeSantis',),\n",
       " ('Harrison Miller',),\n",
       " ('Jeremy Owens',),\n",
       " ('Jeremy Reikes',),\n",
       " ('Johnathan Peck',),\n",
       " ('Minna F',),\n",
       " ('Nabil Abbas',),\n",
       " ('Natalie Del Rossi',),\n",
       " ('Remy Canario',),\n",
       " ('Xristos Katsaros',)]"
      ]
     },
     "execution_count": 33,
     "metadata": {},
     "output_type": "execute_result"
    }
   ],
   "source": [
    "c.execute('''SELECT name FROM students''').fetchall()"
   ]
  },
  {
   "cell_type": "code",
   "execution_count": 34,
   "metadata": {},
   "outputs": [
    {
     "data": {
      "text/plain": [
       "[('Tawab', '04/08/1998', 4, 'Afghanistan', 0.5, 'pizza')]"
      ]
     },
     "execution_count": 34,
     "metadata": {},
     "output_type": "execute_result"
    }
   ],
   "source": [
    "c.execute('''SELECT * FROM students ORDER BY siblings DESC LIMIT 1''').fetchall()"
   ]
  },
  {
   "cell_type": "code",
   "execution_count": 35,
   "metadata": {},
   "outputs": [
    {
     "data": {
      "text/plain": [
       "[('Harrison Miller', '10/2/85', 0, 'New Jersey', 0, 'Pizza'),\n",
       " ('Jeremy Owens', '03/30/1990', 0, 'Virginia', 6, 'Avocado'),\n",
       " ('Natalie Del Rossi', '10-23-1994', 0, 'Brooklyn', 18, 'pizza'),\n",
       " ('Remy Canario', '10-11-1988', 0, 'New York', 28, 'toast')]"
      ]
     },
     "execution_count": 35,
     "metadata": {},
     "output_type": "execute_result"
    }
   ],
   "source": [
    "c.execute('''SELECT * FROM students WHERE siblings = 0;''').fetchall()"
   ]
  },
  {
   "cell_type": "code",
   "execution_count": 36,
   "metadata": {},
   "outputs": [
    {
     "data": {
      "text/plain": [
       "[('Danny (Haoyang) Yu', '1997-03-19', 2, '1997-03-19', 0, 'Galbi'),\n",
       " ('Harrison Miller', '10/2/85', 0, 'New Jersey', 0, 'Pizza'),\n",
       " ('Tawab', '04/08/1998', 4, 'Afghanistan', 0.5, 'pizza')]"
      ]
     },
     "execution_count": 36,
     "metadata": {},
     "output_type": "execute_result"
    }
   ],
   "source": [
    "c.execute(\"\"\"SELECT * FROM students ORDER BY yearsinnyc LIMIT 3;\"\"\").fetchall()"
   ]
  },
  {
   "cell_type": "code",
   "execution_count": 37,
   "metadata": {},
   "outputs": [
    {
     "data": {
      "text/plain": [
       "[('Tawab',)]"
      ]
     },
     "execution_count": 37,
     "metadata": {},
     "output_type": "execute_result"
    }
   ],
   "source": [
    "c.execute('''SELECT name FROM students WHERE siblings = (select max (siblings)from students)''').fetchall()"
   ]
  },
  {
   "cell_type": "code",
   "execution_count": 39,
   "metadata": {},
   "outputs": [
    {
     "data": {
      "text/plain": [
       "[('Johnathan Peck',), ('Remy Canario',)]"
      ]
     },
     "execution_count": 39,
     "metadata": {},
     "output_type": "execute_result"
    }
   ],
   "source": [
    "c.execute('''SELECT name FROM students WHERE Birthplace = \"New York\";''').fetchall()"
   ]
  },
  {
   "cell_type": "code",
   "execution_count": 43,
   "metadata": {},
   "outputs": [
    {
     "data": {
      "text/plain": [
       "[('Jeremy Owens', '03/30/1990', 0, 'Virginia', 6, 'Avocado'),\n",
       " ('Danny (Haoyang) Yu', '1997-03-19', 2, '1997-03-19', 0, 'Galbi'),\n",
       " ('Nabil Abbas', '12-07-1994', 2, 'Long Island', 6, 'Gyro'),\n",
       " ('Bridget Boakye', '1990-07-13', 3, 'Accra', 15, 'Indian'),\n",
       " ('Johnathan Peck', '02-19-1994', 2, 'New York', 25, 'Moms food'),\n",
       " ('Dustin_Breitner', '04/15/94', 2, 'New_York', 3, 'Pizza'),\n",
       " ('Cristina', '9/9/1990', 2, 'Spain', 6, 'Sushi'),\n",
       " ('Sean Abu Wilson', '02/06', 2, 'Birmingham, AL', 7.8, 'guacamole'),\n",
       " ('Tawab', '04/08/1998', 4, 'Afghanistan', 0.5, 'pizza'),\n",
       " ('Minna F', '11-19-1996', 3, 'San Francisco', 1, 'sushi'),\n",
       " ('Remy Canario', '10-11-1988', 0, 'New York', 28, 'toast')]"
      ]
     },
     "execution_count": 43,
     "metadata": {},
     "output_type": "execute_result"
    }
   ],
   "source": [
    "c.execute(''' SELECT * FROM students where favoritefood = favoritefood GROUP BY favoritefood;''').fetchall()"
   ]
  },
  {
   "cell_type": "code",
   "execution_count": 48,
   "metadata": {},
   "outputs": [
    {
     "data": {
      "text/plain": [
       "[('Johnathan Peck', '02-19-1994', 2, 'New York', 25, 'Moms food'),\n",
       " ('Sean Abu Wilson', '02/06', 2, 'Birmingham, AL', 7.8, 'guacamole'),\n",
       " ('Sean Abu Wilson', '02/06', 2, 'Birmingham, AL', 7.8, 'guacamole'),\n",
       " ('Xristos Katsaros', '03-24-1986', 1, 'Chicago Heights, IL', 3, 'Pizza'),\n",
       " ('Jeremy Owens', '03/30/1990', 0, 'Virginia', 6, 'Avocado'),\n",
       " ('Tawab', '04/08/1998', 4, 'Afghanistan', 0.5, 'pizza'),\n",
       " ('Dustin_Breitner', '04/15/94', 2, 'New_York', 3, 'Pizza'),\n",
       " ('Jeremy Reikes', '1-/12/1995', 1, 'New York City', 23, 'Pizza'),\n",
       " ('Remy Canario', '10-11-1988', 0, 'New York', 28, 'toast'),\n",
       " ('Natalie Del Rossi', '10-23-1994', 0, 'Brooklyn', 18, 'pizza'),\n",
       " ('Harrison Miller', '10/2/85', 0, 'New Jersey', 0, 'Pizza'),\n",
       " ('Minna F', '11-19-1996', 3, 'San Francisco', 1, 'sushi'),\n",
       " ('Nabil Abbas', '12-07-1994', 2, 'Long Island', 6, 'Gyro'),\n",
       " ('Gregory DeSantis', '1987-11-23', 2, 'Highland Park, NJ', 13, 'Pizza'),\n",
       " ('Bridget Boakye', '1990-07-13', 3, 'Accra', 15, 'Indian'),\n",
       " ('Danny (Haoyang) Yu', '1997-03-19', 2, '1997-03-19', 0, 'Galbi'),\n",
       " ('Cristina', '9/9/1990', 2, 'Spain', 6, 'Sushi')]"
      ]
     },
     "execution_count": 48,
     "metadata": {},
     "output_type": "execute_result"
    }
   ],
   "source": [
    "c.execute('''SELECT * FROM students ORDER BY birthdate;''').fetchall()"
   ]
  },
  {
   "cell_type": "code",
   "execution_count": 51,
   "metadata": {},
   "outputs": [
    {
     "data": {
      "text/plain": [
       "<function Connection.commit>"
      ]
     },
     "execution_count": 51,
     "metadata": {},
     "output_type": "execute_result"
    }
   ],
   "source": [
    "c.execute('''ALTER TABLE students ADD dob date;''')\n",
    "conn.commit"
   ]
  },
  {
   "cell_type": "code",
   "execution_count": 54,
   "metadata": {},
   "outputs": [
    {
     "data": {
      "text/html": [
       "<div>\n",
       "<style scoped>\n",
       "    .dataframe tbody tr th:only-of-type {\n",
       "        vertical-align: middle;\n",
       "    }\n",
       "\n",
       "    .dataframe tbody tr th {\n",
       "        vertical-align: top;\n",
       "    }\n",
       "\n",
       "    .dataframe thead th {\n",
       "        text-align: right;\n",
       "    }\n",
       "</style>\n",
       "<table border=\"1\" class=\"dataframe\">\n",
       "  <thead>\n",
       "    <tr style=\"text-align: right;\">\n",
       "      <th></th>\n",
       "      <th>name</th>\n",
       "      <th>birthdate</th>\n",
       "      <th>siblings</th>\n",
       "      <th>Birthplace</th>\n",
       "      <th>yearsinnyc</th>\n",
       "      <th>favoritefood</th>\n",
       "      <th>dob</th>\n",
       "    </tr>\n",
       "  </thead>\n",
       "  <tbody>\n",
       "    <tr>\n",
       "      <th>0</th>\n",
       "      <td>Sean Abu Wilson</td>\n",
       "      <td>02/06</td>\n",
       "      <td>2</td>\n",
       "      <td>Birmingham, AL</td>\n",
       "      <td>7.8</td>\n",
       "      <td>guacamole</td>\n",
       "      <td>None</td>\n",
       "    </tr>\n",
       "    <tr>\n",
       "      <th>1</th>\n",
       "      <td>Sean Abu Wilson</td>\n",
       "      <td>02/06</td>\n",
       "      <td>2</td>\n",
       "      <td>Birmingham, AL</td>\n",
       "      <td>7.8</td>\n",
       "      <td>guacamole</td>\n",
       "      <td>None</td>\n",
       "    </tr>\n",
       "    <tr>\n",
       "      <th>2</th>\n",
       "      <td>Tawab</td>\n",
       "      <td>04/08/1998</td>\n",
       "      <td>4</td>\n",
       "      <td>Afghanistan</td>\n",
       "      <td>0.5</td>\n",
       "      <td>pizza</td>\n",
       "      <td>None</td>\n",
       "    </tr>\n",
       "    <tr>\n",
       "      <th>3</th>\n",
       "      <td>Bridget Boakye</td>\n",
       "      <td>1990-07-13</td>\n",
       "      <td>3</td>\n",
       "      <td>Accra</td>\n",
       "      <td>15.0</td>\n",
       "      <td>Indian</td>\n",
       "      <td>None</td>\n",
       "    </tr>\n",
       "    <tr>\n",
       "      <th>4</th>\n",
       "      <td>Cristina</td>\n",
       "      <td>9/9/1990</td>\n",
       "      <td>2</td>\n",
       "      <td>Spain</td>\n",
       "      <td>6.0</td>\n",
       "      <td>Sushi</td>\n",
       "      <td>None</td>\n",
       "    </tr>\n",
       "  </tbody>\n",
       "</table>\n",
       "</div>"
      ],
      "text/plain": [
       "              name   birthdate  siblings      Birthplace  yearsinnyc  \\\n",
       "0  Sean Abu Wilson       02/06         2  Birmingham, AL         7.8   \n",
       "1  Sean Abu Wilson       02/06         2  Birmingham, AL         7.8   \n",
       "2            Tawab  04/08/1998         4     Afghanistan         0.5   \n",
       "3   Bridget Boakye  1990-07-13         3           Accra        15.0   \n",
       "4         Cristina    9/9/1990         2           Spain         6.0   \n",
       "\n",
       "  favoritefood   dob  \n",
       "0    guacamole  None  \n",
       "1    guacamole  None  \n",
       "2        pizza  None  \n",
       "3       Indian  None  \n",
       "4        Sushi  None  "
      ]
     },
     "execution_count": 54,
     "metadata": {},
     "output_type": "execute_result"
    }
   ],
   "source": [
    "c.execute(\"\"\"SELECT * FROM students\"\"\")\n",
    "df = pd.DataFrame(c.fetchall())\n",
    "df.columns = [x[0] for x in c.description]\n",
    "df.head()"
   ]
  },
  {
   "cell_type": "code",
   "execution_count": null,
   "metadata": {},
   "outputs": [],
   "source": []
  }
 ],
 "metadata": {
  "kernelspec": {
   "display_name": "Python 3",
   "language": "python",
   "name": "python3"
  },
  "language_info": {
   "codemirror_mode": {
    "name": "ipython",
    "version": 3
   },
   "file_extension": ".py",
   "mimetype": "text/x-python",
   "name": "python",
   "nbconvert_exporter": "python",
   "pygments_lexer": "ipython3",
   "version": "3.7.3"
  }
 },
 "nbformat": 4,
 "nbformat_minor": 2
}
